{
  "nbformat": 4,
  "nbformat_minor": 0,
  "metadata": {
    "colab": {
      "name": "FirstMLTest.ipynb",
      "version": "0.3.2",
      "provenance": [],
      "toc_visible": true,
      "include_colab_link": true
    }
  },
  "cells": [
    {
      "cell_type": "markdown",
      "metadata": {
        "id": "view-in-github",
        "colab_type": "text"
      },
      "source": [
        "[View in Colaboratory](https://colab.research.google.com/github/rahulkumar-aws/MLandDeepLearningWork/blob/master/FirstMLTest.ipynb)"
      ]
    },
    {
      "metadata": {
        "id": "7_tZEVGHDmYu",
        "colab_type": "code",
        "colab": {}
      },
      "cell_type": "code",
      "source": [
        "import tensorflow as tf"
      ],
      "execution_count": 0,
      "outputs": []
    },
    {
      "metadata": {
        "id": "NBT2OuWIFuOe",
        "colab_type": "code",
        "colab": {}
      },
      "cell_type": "code",
      "source": [
        "import pandas as pd"
      ],
      "execution_count": 0,
      "outputs": []
    },
    {
      "metadata": {
        "id": "_s02o0T6FztL",
        "colab_type": "code",
        "colab": {}
      },
      "cell_type": "code",
      "source": [
        "census = pd.read_csv(\"census_data.csv\")"
      ],
      "execution_count": 0,
      "outputs": []
    },
    {
      "metadata": {
        "id": "rw73CGnLGz2q",
        "colab_type": "code",
        "colab": {
          "base_uri": "https://localhost:8080/",
          "height": 292
        },
        "outputId": "e3d3c757-3349-408c-8c68-00360cbce9c8"
      },
      "cell_type": "code",
      "source": [
        "census.head()"
      ],
      "execution_count": 4,
      "outputs": [
        {
          "output_type": "execute_result",
          "data": {
            "text/html": [
              "<div>\n",
              "<style scoped>\n",
              "    .dataframe tbody tr th:only-of-type {\n",
              "        vertical-align: middle;\n",
              "    }\n",
              "\n",
              "    .dataframe tbody tr th {\n",
              "        vertical-align: top;\n",
              "    }\n",
              "\n",
              "    .dataframe thead th {\n",
              "        text-align: right;\n",
              "    }\n",
              "</style>\n",
              "<table border=\"1\" class=\"dataframe\">\n",
              "  <thead>\n",
              "    <tr style=\"text-align: right;\">\n",
              "      <th></th>\n",
              "      <th>age</th>\n",
              "      <th>workclass</th>\n",
              "      <th>education</th>\n",
              "      <th>education_num</th>\n",
              "      <th>marital_status</th>\n",
              "      <th>occupation</th>\n",
              "      <th>relationship</th>\n",
              "      <th>race</th>\n",
              "      <th>gender</th>\n",
              "      <th>capital_gain</th>\n",
              "      <th>capital_loss</th>\n",
              "      <th>hours_per_week</th>\n",
              "      <th>native_country</th>\n",
              "      <th>income_bracket</th>\n",
              "    </tr>\n",
              "  </thead>\n",
              "  <tbody>\n",
              "    <tr>\n",
              "      <th>0</th>\n",
              "      <td>39</td>\n",
              "      <td>State-gov</td>\n",
              "      <td>Bachelors</td>\n",
              "      <td>13</td>\n",
              "      <td>Never-married</td>\n",
              "      <td>Adm-clerical</td>\n",
              "      <td>Not-in-family</td>\n",
              "      <td>White</td>\n",
              "      <td>Male</td>\n",
              "      <td>2174</td>\n",
              "      <td>0</td>\n",
              "      <td>40</td>\n",
              "      <td>United-States</td>\n",
              "      <td>&lt;=50K</td>\n",
              "    </tr>\n",
              "    <tr>\n",
              "      <th>1</th>\n",
              "      <td>50</td>\n",
              "      <td>Self-emp-not-inc</td>\n",
              "      <td>Bachelors</td>\n",
              "      <td>13</td>\n",
              "      <td>Married-civ-spouse</td>\n",
              "      <td>Exec-managerial</td>\n",
              "      <td>Husband</td>\n",
              "      <td>White</td>\n",
              "      <td>Male</td>\n",
              "      <td>0</td>\n",
              "      <td>0</td>\n",
              "      <td>13</td>\n",
              "      <td>United-States</td>\n",
              "      <td>&lt;=50K</td>\n",
              "    </tr>\n",
              "    <tr>\n",
              "      <th>2</th>\n",
              "      <td>38</td>\n",
              "      <td>Private</td>\n",
              "      <td>HS-grad</td>\n",
              "      <td>9</td>\n",
              "      <td>Divorced</td>\n",
              "      <td>Handlers-cleaners</td>\n",
              "      <td>Not-in-family</td>\n",
              "      <td>White</td>\n",
              "      <td>Male</td>\n",
              "      <td>0</td>\n",
              "      <td>0</td>\n",
              "      <td>40</td>\n",
              "      <td>United-States</td>\n",
              "      <td>&lt;=50K</td>\n",
              "    </tr>\n",
              "    <tr>\n",
              "      <th>3</th>\n",
              "      <td>53</td>\n",
              "      <td>Private</td>\n",
              "      <td>11th</td>\n",
              "      <td>7</td>\n",
              "      <td>Married-civ-spouse</td>\n",
              "      <td>Handlers-cleaners</td>\n",
              "      <td>Husband</td>\n",
              "      <td>Black</td>\n",
              "      <td>Male</td>\n",
              "      <td>0</td>\n",
              "      <td>0</td>\n",
              "      <td>40</td>\n",
              "      <td>United-States</td>\n",
              "      <td>&lt;=50K</td>\n",
              "    </tr>\n",
              "    <tr>\n",
              "      <th>4</th>\n",
              "      <td>28</td>\n",
              "      <td>Private</td>\n",
              "      <td>Bachelors</td>\n",
              "      <td>13</td>\n",
              "      <td>Married-civ-spouse</td>\n",
              "      <td>Prof-specialty</td>\n",
              "      <td>Wife</td>\n",
              "      <td>Black</td>\n",
              "      <td>Female</td>\n",
              "      <td>0</td>\n",
              "      <td>0</td>\n",
              "      <td>40</td>\n",
              "      <td>Cuba</td>\n",
              "      <td>&lt;=50K</td>\n",
              "    </tr>\n",
              "  </tbody>\n",
              "</table>\n",
              "</div>"
            ],
            "text/plain": [
              "   age          workclass   education  education_num       marital_status  \\\n",
              "0   39          State-gov   Bachelors             13        Never-married   \n",
              "1   50   Self-emp-not-inc   Bachelors             13   Married-civ-spouse   \n",
              "2   38            Private     HS-grad              9             Divorced   \n",
              "3   53            Private        11th              7   Married-civ-spouse   \n",
              "4   28            Private   Bachelors             13   Married-civ-spouse   \n",
              "\n",
              "           occupation    relationship    race   gender  capital_gain  \\\n",
              "0        Adm-clerical   Not-in-family   White     Male          2174   \n",
              "1     Exec-managerial         Husband   White     Male             0   \n",
              "2   Handlers-cleaners   Not-in-family   White     Male             0   \n",
              "3   Handlers-cleaners         Husband   Black     Male             0   \n",
              "4      Prof-specialty            Wife   Black   Female             0   \n",
              "\n",
              "   capital_loss  hours_per_week  native_country income_bracket  \n",
              "0             0              40   United-States          <=50K  \n",
              "1             0              13   United-States          <=50K  \n",
              "2             0              40   United-States          <=50K  \n",
              "3             0              40   United-States          <=50K  \n",
              "4             0              40            Cuba          <=50K  "
            ]
          },
          "metadata": {
            "tags": []
          },
          "execution_count": 4
        }
      ]
    },
    {
      "metadata": {
        "id": "gtP0VPC1G2KE",
        "colab_type": "code",
        "colab": {
          "base_uri": "https://localhost:8080/",
          "height": 34
        },
        "outputId": "dc1b14b4-5d70-4f8a-958b-41f2459d9980"
      },
      "cell_type": "code",
      "source": [
        "census['income_bracket'].unique()"
      ],
      "execution_count": 5,
      "outputs": [
        {
          "output_type": "execute_result",
          "data": {
            "text/plain": [
              "array([' <=50K', ' >50K'], dtype=object)"
            ]
          },
          "metadata": {
            "tags": []
          },
          "execution_count": 5
        }
      ]
    },
    {
      "metadata": {
        "id": "6jrw9hD_HjVw",
        "colab_type": "code",
        "colab": {}
      },
      "cell_type": "code",
      "source": [
        "def label_fix(label):\n",
        "    if label == ' <=50K':\n",
        "        return 0\n",
        "    else:\n",
        "        return 1"
      ],
      "execution_count": 0,
      "outputs": []
    },
    {
      "metadata": {
        "id": "mUDaCdESHmu1",
        "colab_type": "code",
        "colab": {
          "base_uri": "https://localhost:8080/",
          "height": 292
        },
        "outputId": "7b77d938-45c2-4f13-a0dc-70d65a35aa88"
      },
      "cell_type": "code",
      "source": [
        "census['income_bracket'] = census['income_bracket'].apply(label_fix)\n",
        "census.head()"
      ],
      "execution_count": 8,
      "outputs": [
        {
          "output_type": "execute_result",
          "data": {
            "text/html": [
              "<div>\n",
              "<style scoped>\n",
              "    .dataframe tbody tr th:only-of-type {\n",
              "        vertical-align: middle;\n",
              "    }\n",
              "\n",
              "    .dataframe tbody tr th {\n",
              "        vertical-align: top;\n",
              "    }\n",
              "\n",
              "    .dataframe thead th {\n",
              "        text-align: right;\n",
              "    }\n",
              "</style>\n",
              "<table border=\"1\" class=\"dataframe\">\n",
              "  <thead>\n",
              "    <tr style=\"text-align: right;\">\n",
              "      <th></th>\n",
              "      <th>age</th>\n",
              "      <th>workclass</th>\n",
              "      <th>education</th>\n",
              "      <th>education_num</th>\n",
              "      <th>marital_status</th>\n",
              "      <th>occupation</th>\n",
              "      <th>relationship</th>\n",
              "      <th>race</th>\n",
              "      <th>gender</th>\n",
              "      <th>capital_gain</th>\n",
              "      <th>capital_loss</th>\n",
              "      <th>hours_per_week</th>\n",
              "      <th>native_country</th>\n",
              "      <th>income_bracket</th>\n",
              "    </tr>\n",
              "  </thead>\n",
              "  <tbody>\n",
              "    <tr>\n",
              "      <th>0</th>\n",
              "      <td>39</td>\n",
              "      <td>State-gov</td>\n",
              "      <td>Bachelors</td>\n",
              "      <td>13</td>\n",
              "      <td>Never-married</td>\n",
              "      <td>Adm-clerical</td>\n",
              "      <td>Not-in-family</td>\n",
              "      <td>White</td>\n",
              "      <td>Male</td>\n",
              "      <td>2174</td>\n",
              "      <td>0</td>\n",
              "      <td>40</td>\n",
              "      <td>United-States</td>\n",
              "      <td>1</td>\n",
              "    </tr>\n",
              "    <tr>\n",
              "      <th>1</th>\n",
              "      <td>50</td>\n",
              "      <td>Self-emp-not-inc</td>\n",
              "      <td>Bachelors</td>\n",
              "      <td>13</td>\n",
              "      <td>Married-civ-spouse</td>\n",
              "      <td>Exec-managerial</td>\n",
              "      <td>Husband</td>\n",
              "      <td>White</td>\n",
              "      <td>Male</td>\n",
              "      <td>0</td>\n",
              "      <td>0</td>\n",
              "      <td>13</td>\n",
              "      <td>United-States</td>\n",
              "      <td>1</td>\n",
              "    </tr>\n",
              "    <tr>\n",
              "      <th>2</th>\n",
              "      <td>38</td>\n",
              "      <td>Private</td>\n",
              "      <td>HS-grad</td>\n",
              "      <td>9</td>\n",
              "      <td>Divorced</td>\n",
              "      <td>Handlers-cleaners</td>\n",
              "      <td>Not-in-family</td>\n",
              "      <td>White</td>\n",
              "      <td>Male</td>\n",
              "      <td>0</td>\n",
              "      <td>0</td>\n",
              "      <td>40</td>\n",
              "      <td>United-States</td>\n",
              "      <td>1</td>\n",
              "    </tr>\n",
              "    <tr>\n",
              "      <th>3</th>\n",
              "      <td>53</td>\n",
              "      <td>Private</td>\n",
              "      <td>11th</td>\n",
              "      <td>7</td>\n",
              "      <td>Married-civ-spouse</td>\n",
              "      <td>Handlers-cleaners</td>\n",
              "      <td>Husband</td>\n",
              "      <td>Black</td>\n",
              "      <td>Male</td>\n",
              "      <td>0</td>\n",
              "      <td>0</td>\n",
              "      <td>40</td>\n",
              "      <td>United-States</td>\n",
              "      <td>1</td>\n",
              "    </tr>\n",
              "    <tr>\n",
              "      <th>4</th>\n",
              "      <td>28</td>\n",
              "      <td>Private</td>\n",
              "      <td>Bachelors</td>\n",
              "      <td>13</td>\n",
              "      <td>Married-civ-spouse</td>\n",
              "      <td>Prof-specialty</td>\n",
              "      <td>Wife</td>\n",
              "      <td>Black</td>\n",
              "      <td>Female</td>\n",
              "      <td>0</td>\n",
              "      <td>0</td>\n",
              "      <td>40</td>\n",
              "      <td>Cuba</td>\n",
              "      <td>1</td>\n",
              "    </tr>\n",
              "  </tbody>\n",
              "</table>\n",
              "</div>"
            ],
            "text/plain": [
              "   age          workclass   education  education_num       marital_status  \\\n",
              "0   39          State-gov   Bachelors             13        Never-married   \n",
              "1   50   Self-emp-not-inc   Bachelors             13   Married-civ-spouse   \n",
              "2   38            Private     HS-grad              9             Divorced   \n",
              "3   53            Private        11th              7   Married-civ-spouse   \n",
              "4   28            Private   Bachelors             13   Married-civ-spouse   \n",
              "\n",
              "           occupation    relationship    race   gender  capital_gain  \\\n",
              "0        Adm-clerical   Not-in-family   White     Male          2174   \n",
              "1     Exec-managerial         Husband   White     Male             0   \n",
              "2   Handlers-cleaners   Not-in-family   White     Male             0   \n",
              "3   Handlers-cleaners         Husband   Black     Male             0   \n",
              "4      Prof-specialty            Wife   Black   Female             0   \n",
              "\n",
              "   capital_loss  hours_per_week  native_country  income_bracket  \n",
              "0             0              40   United-States               1  \n",
              "1             0              13   United-States               1  \n",
              "2             0              40   United-States               1  \n",
              "3             0              40   United-States               1  \n",
              "4             0              40            Cuba               1  "
            ]
          },
          "metadata": {
            "tags": []
          },
          "execution_count": 8
        }
      ]
    },
    {
      "metadata": {
        "id": "aZIY5t0wHq_o",
        "colab_type": "code",
        "colab": {}
      },
      "cell_type": "code",
      "source": [
        "from sklearn.model_selection import train_test_split"
      ],
      "execution_count": 0,
      "outputs": []
    },
    {
      "metadata": {
        "id": "eTXFZXTLHvCA",
        "colab_type": "code",
        "colab": {}
      },
      "cell_type": "code",
      "source": [
        "x_data = census.drop('income_bracket', axis=1)\n",
        "y_labels = census['income_bracket']"
      ],
      "execution_count": 0,
      "outputs": []
    },
    {
      "metadata": {
        "id": "9aDIDEtAH0zC",
        "colab_type": "code",
        "colab": {}
      },
      "cell_type": "code",
      "source": [
        "X_train, X_test, y_train, y_test = train_test_split(x_data, y_labels, test_size=0.3, random_state=101) "
      ],
      "execution_count": 0,
      "outputs": []
    },
    {
      "metadata": {
        "id": "1u9L1oNNH2vV",
        "colab_type": "code",
        "colab": {
          "base_uri": "https://localhost:8080/",
          "height": 102
        },
        "outputId": "c8963d64-56d6-454f-962c-397369c30690"
      },
      "cell_type": "code",
      "source": [
        "census.columns"
      ],
      "execution_count": 13,
      "outputs": [
        {
          "output_type": "execute_result",
          "data": {
            "text/plain": [
              "Index([u'age', u'workclass', u'education', u'education_num', u'marital_status',\n",
              "       u'occupation', u'relationship', u'race', u'gender', u'capital_gain',\n",
              "       u'capital_loss', u'hours_per_week', u'native_country',\n",
              "       u'income_bracket'],\n",
              "      dtype='object')"
            ]
          },
          "metadata": {
            "tags": []
          },
          "execution_count": 13
        }
      ]
    },
    {
      "metadata": {
        "id": "OmQUe1XDH-CK",
        "colab_type": "code",
        "colab": {}
      },
      "cell_type": "code",
      "source": [
        "gender = tf.feature_column.categorical_column_with_vocabulary_list(\"gender\", [\"Female\",\"Male\"])\n",
        "occupation = tf.feature_column.categorical_column_with_hash_bucket(\"occupation\", hash_bucket_size=1000)\n",
        "marital_status = tf.feature_column.categorical_column_with_hash_bucket(\"marital_status\", hash_bucket_size=1000)\n",
        "relationship = tf.feature_column.categorical_column_with_hash_bucket(\"relationship\", hash_bucket_size=1000)\n",
        "education = tf.feature_column.categorical_column_with_hash_bucket(\"education\", hash_bucket_size=1000)\n",
        "workclass = tf.feature_column.categorical_column_with_hash_bucket(\"workclass\", hash_bucket_size=1000)\n",
        "native_country = tf.feature_column.categorical_column_with_hash_bucket(\"native_country\", hash_bucket_size=1000)"
      ],
      "execution_count": 0,
      "outputs": []
    },
    {
      "metadata": {
        "id": "pRb2FjXSH_rw",
        "colab_type": "code",
        "colab": {}
      },
      "cell_type": "code",
      "source": [
        "age = tf.feature_column.numeric_column(\"age\")\n",
        "education_num = tf.feature_column.numeric_column(\"education_num\")\n",
        "capital_gain = tf.feature_column.numeric_column(\"capital_gain\")\n",
        "capital_loss = tf.feature_column.numeric_column(\"capital_loss\")\n",
        "hours_per_week = tf.feature_column.numeric_column(\"hours_per_week\")"
      ],
      "execution_count": 0,
      "outputs": []
    },
    {
      "metadata": {
        "id": "WsiDDujxID-H",
        "colab_type": "code",
        "colab": {}
      },
      "cell_type": "code",
      "source": [
        "feat_cols = [gender, occupation, marital_status, relationship, education, workclass, native_country, age, education_num, capital_gain, capital_loss, hours_per_week]"
      ],
      "execution_count": 0,
      "outputs": []
    },
    {
      "metadata": {
        "id": "0j_3cMhsIK-U",
        "colab_type": "code",
        "colab": {}
      },
      "cell_type": "code",
      "source": [
        "input_func=tf.estimator.inputs.pandas_input_fn(x=X_train,y=y_train,batch_size=100, num_epochs=None, shuffle=True)"
      ],
      "execution_count": 0,
      "outputs": []
    },
    {
      "metadata": {
        "id": "Zi6DFZAPIN8Q",
        "colab_type": "code",
        "colab": {
          "base_uri": "https://localhost:8080/",
          "height": 88
        },
        "outputId": "0c1c793e-8d66-4bec-f24f-8d8992b118d8"
      },
      "cell_type": "code",
      "source": [
        "model = tf.estimator.LinearClassifier(feature_columns=feat_cols)"
      ],
      "execution_count": 18,
      "outputs": [
        {
          "output_type": "stream",
          "text": [
            "INFO:tensorflow:Using default config.\n",
            "WARNING:tensorflow:Using temporary folder as model directory: /tmp/tmp8vtWWI\n",
            "INFO:tensorflow:Using config: {'_save_checkpoints_secs': 600, '_session_config': None, '_keep_checkpoint_max': 5, '_task_type': 'worker', '_global_id_in_cluster': 0, '_is_chief': True, '_cluster_spec': <tensorflow.python.training.server_lib.ClusterSpec object at 0x7f8ee0acbfd0>, '_evaluation_master': '', '_save_checkpoints_steps': None, '_keep_checkpoint_every_n_hours': 10000, '_service': None, '_num_ps_replicas': 0, '_tf_random_seed': None, '_master': '', '_device_fn': None, '_num_worker_replicas': 1, '_task_id': 0, '_log_step_count_steps': 100, '_model_dir': '/tmp/tmp8vtWWI', '_train_distribute': None, '_save_summary_steps': 100}\n"
          ],
          "name": "stdout"
        }
      ]
    },
    {
      "metadata": {
        "id": "GTtZXG2-IQtk",
        "colab_type": "code",
        "colab": {
          "base_uri": "https://localhost:8080/",
          "height": 1870
        },
        "outputId": "29cff6cc-47d8-4279-8c5e-66d784925025"
      },
      "cell_type": "code",
      "source": [
        "model.train(input_fn=input_func, steps=5000)"
      ],
      "execution_count": 19,
      "outputs": [
        {
          "output_type": "stream",
          "text": [
            "INFO:tensorflow:Calling model_fn.\n",
            "INFO:tensorflow:Done calling model_fn.\n",
            "INFO:tensorflow:Create CheckpointSaverHook.\n",
            "INFO:tensorflow:Graph was finalized.\n",
            "INFO:tensorflow:Running local_init_op.\n",
            "INFO:tensorflow:Done running local_init_op.\n",
            "INFO:tensorflow:Saving checkpoints for 0 into /tmp/tmp8vtWWI/model.ckpt.\n",
            "INFO:tensorflow:loss = 69.31472, step = 1\n",
            "INFO:tensorflow:global_step/sec: 117.879\n",
            "INFO:tensorflow:loss = 0.00046482627, step = 101 (0.858 sec)\n",
            "INFO:tensorflow:global_step/sec: 172.279\n",
            "INFO:tensorflow:loss = 6.9984686e-05, step = 201 (0.574 sec)\n",
            "INFO:tensorflow:global_step/sec: 166.909\n",
            "INFO:tensorflow:loss = 0.0008291008, step = 301 (0.608 sec)\n",
            "INFO:tensorflow:global_step/sec: 167.407\n",
            "INFO:tensorflow:loss = 9.900533e-05, step = 401 (0.595 sec)\n",
            "INFO:tensorflow:global_step/sec: 160.395\n",
            "INFO:tensorflow:loss = 0.0004491575, step = 501 (0.615 sec)\n",
            "INFO:tensorflow:global_step/sec: 176.006\n",
            "INFO:tensorflow:loss = 0.00031855842, step = 601 (0.568 sec)\n",
            "INFO:tensorflow:global_step/sec: 169.399\n",
            "INFO:tensorflow:loss = 0.0008982996, step = 701 (0.595 sec)\n",
            "INFO:tensorflow:global_step/sec: 166.703\n",
            "INFO:tensorflow:loss = 0.00019202507, step = 801 (0.600 sec)\n",
            "INFO:tensorflow:global_step/sec: 170.857\n",
            "INFO:tensorflow:loss = 0.00043265644, step = 901 (0.583 sec)\n",
            "INFO:tensorflow:global_step/sec: 155.353\n",
            "INFO:tensorflow:loss = 0.00012102465, step = 1001 (0.641 sec)\n",
            "INFO:tensorflow:global_step/sec: 162.269\n",
            "INFO:tensorflow:loss = 0.00021823848, step = 1101 (0.620 sec)\n",
            "INFO:tensorflow:global_step/sec: 162.849\n",
            "INFO:tensorflow:loss = 0.000959044, step = 1201 (0.612 sec)\n",
            "INFO:tensorflow:global_step/sec: 184.197\n",
            "INFO:tensorflow:loss = 0.00015210135, step = 1301 (0.547 sec)\n",
            "INFO:tensorflow:global_step/sec: 159.3\n",
            "INFO:tensorflow:loss = 0.00018296007, step = 1401 (0.629 sec)\n",
            "INFO:tensorflow:global_step/sec: 161.075\n",
            "INFO:tensorflow:loss = 0.0007501255, step = 1501 (0.618 sec)\n",
            "INFO:tensorflow:global_step/sec: 170.614\n",
            "INFO:tensorflow:loss = 0.00036372794, step = 1601 (0.585 sec)\n",
            "INFO:tensorflow:global_step/sec: 164.65\n",
            "INFO:tensorflow:loss = 6.329037e-05, step = 1701 (0.607 sec)\n",
            "INFO:tensorflow:global_step/sec: 163.916\n",
            "INFO:tensorflow:loss = 0.0005571623, step = 1801 (0.614 sec)\n",
            "INFO:tensorflow:global_step/sec: 169.768\n",
            "INFO:tensorflow:loss = 0.0017212795, step = 1901 (0.584 sec)\n",
            "INFO:tensorflow:global_step/sec: 163.066\n",
            "INFO:tensorflow:loss = 0.00032096, step = 2001 (0.615 sec)\n",
            "INFO:tensorflow:global_step/sec: 171.385\n",
            "INFO:tensorflow:loss = 4.905689e-05, step = 2101 (0.587 sec)\n",
            "INFO:tensorflow:global_step/sec: 163.404\n",
            "INFO:tensorflow:loss = 0.00045123373, step = 2201 (0.606 sec)\n",
            "INFO:tensorflow:global_step/sec: 173.185\n",
            "INFO:tensorflow:loss = 0.00012640988, step = 2301 (0.579 sec)\n",
            "INFO:tensorflow:global_step/sec: 167.856\n",
            "INFO:tensorflow:loss = 0.0002579073, step = 2401 (0.599 sec)\n",
            "INFO:tensorflow:global_step/sec: 174.781\n",
            "INFO:tensorflow:loss = 0.0004262383, step = 2501 (0.572 sec)\n",
            "INFO:tensorflow:global_step/sec: 181.507\n",
            "INFO:tensorflow:loss = 8.4020605e-05, step = 2601 (0.557 sec)\n",
            "INFO:tensorflow:global_step/sec: 161.313\n",
            "INFO:tensorflow:loss = 0.00024147861, step = 2701 (0.615 sec)\n",
            "INFO:tensorflow:global_step/sec: 187.361\n",
            "INFO:tensorflow:loss = 0.00015282573, step = 2801 (0.529 sec)\n",
            "INFO:tensorflow:global_step/sec: 167.727\n",
            "INFO:tensorflow:loss = 0.0006124436, step = 2901 (0.594 sec)\n",
            "INFO:tensorflow:global_step/sec: 168.171\n",
            "INFO:tensorflow:loss = 0.0007220065, step = 3001 (0.596 sec)\n",
            "INFO:tensorflow:global_step/sec: 172.918\n",
            "INFO:tensorflow:loss = 0.00024507978, step = 3101 (0.577 sec)\n",
            "INFO:tensorflow:global_step/sec: 169.314\n",
            "INFO:tensorflow:loss = 7.93668e-05, step = 3201 (0.597 sec)\n",
            "INFO:tensorflow:global_step/sec: 163.832\n",
            "INFO:tensorflow:loss = 0.0004571437, step = 3301 (0.604 sec)\n",
            "INFO:tensorflow:global_step/sec: 161.373\n",
            "INFO:tensorflow:loss = 0.00042701443, step = 3401 (0.622 sec)\n",
            "INFO:tensorflow:global_step/sec: 159.072\n",
            "INFO:tensorflow:loss = 0.00020113778, step = 3501 (0.632 sec)\n",
            "INFO:tensorflow:global_step/sec: 172.394\n",
            "INFO:tensorflow:loss = 2.2426608e-05, step = 3601 (0.580 sec)\n",
            "INFO:tensorflow:global_step/sec: 167.175\n",
            "INFO:tensorflow:loss = 4.672555e-05, step = 3701 (0.597 sec)\n",
            "INFO:tensorflow:global_step/sec: 168.915\n",
            "INFO:tensorflow:loss = 2.0872287e-05, step = 3801 (0.592 sec)\n",
            "INFO:tensorflow:global_step/sec: 169.724\n",
            "INFO:tensorflow:loss = 0.00011876889, step = 3901 (0.586 sec)\n",
            "INFO:tensorflow:global_step/sec: 162.804\n",
            "INFO:tensorflow:loss = 0.0001460494, step = 4001 (0.619 sec)\n",
            "INFO:tensorflow:global_step/sec: 162.936\n",
            "INFO:tensorflow:loss = 8.553557e-05, step = 4101 (0.612 sec)\n",
            "INFO:tensorflow:global_step/sec: 165.24\n",
            "INFO:tensorflow:loss = 5.209507e-05, step = 4201 (0.608 sec)\n",
            "INFO:tensorflow:global_step/sec: 172.484\n",
            "INFO:tensorflow:loss = 0.000106966705, step = 4301 (0.577 sec)\n",
            "INFO:tensorflow:global_step/sec: 170.722\n",
            "INFO:tensorflow:loss = 1.0862233e-05, step = 4401 (0.585 sec)\n",
            "INFO:tensorflow:global_step/sec: 169.645\n",
            "INFO:tensorflow:loss = 0.0013915246, step = 4501 (0.589 sec)\n",
            "INFO:tensorflow:global_step/sec: 169.366\n",
            "INFO:tensorflow:loss = 0.00064328563, step = 4601 (0.589 sec)\n",
            "INFO:tensorflow:global_step/sec: 162.169\n",
            "INFO:tensorflow:loss = 2.1792166e-05, step = 4701 (0.615 sec)\n",
            "INFO:tensorflow:global_step/sec: 167.37\n",
            "INFO:tensorflow:loss = 0.00024272017, step = 4801 (0.599 sec)\n",
            "INFO:tensorflow:global_step/sec: 171.616\n",
            "INFO:tensorflow:loss = 0.00010551539, step = 4901 (0.585 sec)\n",
            "INFO:tensorflow:Saving checkpoints for 5000 into /tmp/tmp8vtWWI/model.ckpt.\n",
            "INFO:tensorflow:Loss for final step: 0.00020699612.\n"
          ],
          "name": "stdout"
        },
        {
          "output_type": "execute_result",
          "data": {
            "text/plain": [
              "<tensorflow.python.estimator.canned.linear.LinearClassifier at 0x7f8ee0acbdd0>"
            ]
          },
          "metadata": {
            "tags": []
          },
          "execution_count": 19
        }
      ]
    },
    {
      "metadata": {
        "id": "0GYtKCqoI7zM",
        "colab_type": "code",
        "colab": {}
      },
      "cell_type": "code",
      "source": [
        "pred_fn = tf.estimator.inputs.pandas_input_fn(x=X_test, batch_size=len(X_test), shuffle=True)"
      ],
      "execution_count": 0,
      "outputs": []
    },
    {
      "metadata": {
        "id": "_X457RzeI9E_",
        "colab_type": "code",
        "colab": {
          "base_uri": "https://localhost:8080/",
          "height": 119
        },
        "outputId": "90fc211e-8800-4360-c2cb-297975ab7bf4"
      },
      "cell_type": "code",
      "source": [
        "predictions = list(model.predict(input_fn=pred_fn))"
      ],
      "execution_count": 21,
      "outputs": [
        {
          "output_type": "stream",
          "text": [
            "INFO:tensorflow:Calling model_fn.\n",
            "INFO:tensorflow:Done calling model_fn.\n",
            "INFO:tensorflow:Graph was finalized.\n",
            "INFO:tensorflow:Restoring parameters from /tmp/tmp8vtWWI/model.ckpt-5000\n",
            "INFO:tensorflow:Running local_init_op.\n",
            "INFO:tensorflow:Done running local_init_op.\n"
          ],
          "name": "stdout"
        }
      ]
    },
    {
      "metadata": {
        "id": "ChCTwDUJI_KP",
        "colab_type": "code",
        "colab": {
          "base_uri": "https://localhost:8080/",
          "height": 102
        },
        "outputId": "e264a50a-7010-460a-8e57-5daeda09af87"
      },
      "cell_type": "code",
      "source": [
        "predictions[0]"
      ],
      "execution_count": 22,
      "outputs": [
        {
          "output_type": "execute_result",
          "data": {
            "text/plain": [
              "{'class_ids': array([1]),\n",
              " 'classes': array(['1'], dtype=object),\n",
              " 'logistic': array([1.], dtype=float32),\n",
              " 'logits': array([16.692675], dtype=float32),\n",
              " 'probabilities': array([5.6294184e-08, 1.0000000e+00], dtype=float32)}"
            ]
          },
          "metadata": {
            "tags": []
          },
          "execution_count": 22
        }
      ]
    },
    {
      "metadata": {
        "id": "D0-RglJ1JBXZ",
        "colab_type": "code",
        "colab": {}
      },
      "cell_type": "code",
      "source": [
        "final_preds = []\n",
        "for pred in predictions:\n",
        "    final_preds.append(pred['class_ids'][0])"
      ],
      "execution_count": 0,
      "outputs": []
    },
    {
      "metadata": {
        "id": "QFW5DRBAJG0Z",
        "colab_type": "code",
        "colab": {
          "base_uri": "https://localhost:8080/",
          "height": 34
        },
        "outputId": "7a7d5d78-8ab6-45c0-d45f-042724aa5978"
      },
      "cell_type": "code",
      "source": [
        "final_preds[:10]"
      ],
      "execution_count": 24,
      "outputs": [
        {
          "output_type": "execute_result",
          "data": {
            "text/plain": [
              "[1, 1, 1, 1, 1, 1, 1, 1, 1, 1]"
            ]
          },
          "metadata": {
            "tags": []
          },
          "execution_count": 24
        }
      ]
    },
    {
      "metadata": {
        "id": "yK1YIT6yJIb4",
        "colab_type": "code",
        "colab": {}
      },
      "cell_type": "code",
      "source": [
        "from sklearn.metrics import classification_report"
      ],
      "execution_count": 0,
      "outputs": []
    },
    {
      "metadata": {
        "id": "NTQr3lwpJMHx",
        "colab_type": "code",
        "colab": {
          "base_uri": "https://localhost:8080/",
          "height": 119
        },
        "outputId": "ef608915-ec45-4576-8467-edfd519f9a43"
      },
      "cell_type": "code",
      "source": [
        "print(classification_report(y_test, final_preds))"
      ],
      "execution_count": 26,
      "outputs": [
        {
          "output_type": "stream",
          "text": [
            "             precision    recall  f1-score   support\n",
            "\n",
            "          1       1.00      1.00      1.00      9769\n",
            "\n",
            "avg / total       1.00      1.00      1.00      9769\n",
            "\n"
          ],
          "name": "stdout"
        }
      ]
    },
    {
      "metadata": {
        "id": "XfQQC1UpJOY5",
        "colab_type": "code",
        "colab": {}
      },
      "cell_type": "code",
      "source": [
        ""
      ],
      "execution_count": 0,
      "outputs": []
    }
  ]
}